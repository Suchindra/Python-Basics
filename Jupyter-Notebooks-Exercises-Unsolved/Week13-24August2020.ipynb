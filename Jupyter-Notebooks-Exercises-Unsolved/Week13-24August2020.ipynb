{
 "cells": [
  {
   "cell_type": "markdown",
   "metadata": {},
   "source": [
    "# Week 13 - 24 August 2020"
   ]
  },
  {
   "cell_type": "markdown",
   "metadata": {},
   "source": [
    "Q1a. Given a floating point number (number with decimals, ex: 4.2), convert it into a Ratio or Fraction (ex: 21/5)."
   ]
  },
  {
   "cell_type": "code",
   "execution_count": null,
   "metadata": {},
   "outputs": [],
   "source": []
  },
  {
   "cell_type": "markdown",
   "metadata": {},
   "source": [
    "Q1b. Given Values convert it into proportions. For examples: Input: marvel_heros = {‘iron man’ = 8, ‘thor’=5, ‘hulk’=7, ‘natasha’=6, ‘dr. strange’=2}. Output: marvel_heros = {‘iron man’ = 0.28, ‘thor’=0.19, ‘hulk’=0.25, ‘natasha’=0.21, ‘dr. strange’=0.07}"
   ]
  },
  {
   "cell_type": "code",
   "execution_count": null,
   "metadata": {},
   "outputs": [],
   "source": []
  },
  {
   "cell_type": "markdown",
   "metadata": {},
   "source": [
    "Q2.Generate a multiplicaction table. Take the number from the user and generate the number's multiplication table."
   ]
  },
  {
   "cell_type": "code",
   "execution_count": null,
   "metadata": {},
   "outputs": [],
   "source": []
  },
  {
   "cell_type": "markdown",
   "metadata": {},
   "source": [
    "Q3.Print the fibonaccai series. As user how many number of fibonacci series he wants and print so many numbers. Fibonacci series is like this: 0, 1, 1, 2, 3, 5, 8, 13, 21, 34 ... A number is sum of previous 2 numbers. You can google for more about fibonacci series."
   ]
  },
  {
   "cell_type": "code",
   "execution_count": null,
   "metadata": {},
   "outputs": [],
   "source": []
  },
  {
   "cell_type": "markdown",
   "metadata": {},
   "source": [
    "Q4.Analyze your test marks. Use the below code to answer following questions. The code below gets information from the user. The subject_marks will have all the information.\n",
    "1. Total marks Obtained.\n",
    "2. Percentage Total.\n",
    "3. Maximum Marks obtained in a subject and Percentage\n",
    "4. Minimum Marks obtained in a subject and Percentage\n",
    "5. How much more marks you should score to get 95% of Total Marks?"
   ]
  },
  {
   "cell_type": "code",
   "execution_count": null,
   "metadata": {},
   "outputs": [],
   "source": [
    "exit = 'y'\n",
    "subject_marks = []\n",
    "while 'y' in exit:\n",
    "    subject = {}\n",
    "    title = input(\"Please Enter the Subject \")\n",
    "    marks = input(\"Please enter the marks \")\n",
    "    max_marks = input(\"Please enter the max marks \")\n",
    "    subject['title'] = title\n",
    "    subject['marks'] = int(marks)\n",
    "    subject['max_marks'] = int(max_marks)\n",
    "    subject_marks.append(subject)\n",
    "    exit = input(\"Do you want to add another subject? (y/n)\")\n",
    "    exit = exit.lower()\n",
    "print(subject_marks)"
   ]
  },
  {
   "cell_type": "code",
   "execution_count": null,
   "metadata": {},
   "outputs": [],
   "source": []
  }
 ],
 "metadata": {
  "kernelspec": {
   "display_name": "Python 3",
   "language": "python",
   "name": "python3"
  },
  "language_info": {
   "codemirror_mode": {
    "name": "ipython",
    "version": 3
   },
   "file_extension": ".py",
   "mimetype": "text/x-python",
   "name": "python",
   "nbconvert_exporter": "python",
   "pygments_lexer": "ipython3",
   "version": "3.7.6"
  }
 },
 "nbformat": 4,
 "nbformat_minor": 4
}
