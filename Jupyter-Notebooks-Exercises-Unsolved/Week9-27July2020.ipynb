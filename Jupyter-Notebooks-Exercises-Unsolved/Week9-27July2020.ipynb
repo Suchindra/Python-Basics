{
 "cells": [
  {
   "cell_type": "markdown",
   "metadata": {},
   "source": [
    "# Week-9 : 27 July 2020"
   ]
  },
  {
   "cell_type": "markdown",
   "metadata": {},
   "source": [
    "Q1. Create a new rhyme.txt file in the current folder (wherever this notebook is), with any 'Rhyme of your choice'. You should first open the file for writing, then use write function to write the rhyme line by line. Don't forget to close the file!"
   ]
  },
  {
   "cell_type": "code",
   "execution_count": null,
   "metadata": {},
   "outputs": [],
   "source": []
  },
  {
   "cell_type": "markdown",
   "metadata": {},
   "source": [
    "Q2. Below you have a list strings and numbers. Can you create a 2 new lists, with only-numbers and only strings?. Complete the code below. Clue: Use isinstance function in python. This links should help you about isinstance - https://www.w3schools.com/python/ref_func_isinstance.asp , "
   ]
  },
  {
   "cell_type": "code",
   "execution_count": 1,
   "metadata": {},
   "outputs": [
    {
     "ename": "SyntaxError",
     "evalue": "EOL while scanning string literal (<ipython-input-1-6f66b6b45732>, line 1)",
     "output_type": "error",
     "traceback": [
      "\u001b[1;36m  File \u001b[1;32m\"<ipython-input-1-6f66b6b45732>\"\u001b[1;36m, line \u001b[1;32m1\u001b[0m\n\u001b[1;33m    gadgets = [Mobile\", “Laptop”, 100, “Camera”, 310.28, “Speakers”, 27.00, “Television”, 1000, “Laptop Case”, “Camera Lens”]\u001b[0m\n\u001b[1;37m                                                                                                                             ^\u001b[0m\n\u001b[1;31mSyntaxError\u001b[0m\u001b[1;31m:\u001b[0m EOL while scanning string literal\n"
     ]
    }
   ],
   "source": [
    "gadgets = [\"Mobile\", \"Laptop\", 100, \"Camera\", 310.28, \"Speakers\", 27.00, \"Television\", 1000, \"Laptop Case\", \"Camera Lens\"]\n",
    "gadget_strings = []\n",
    "gadget_numbers = []"
   ]
  },
  {
   "cell_type": "markdown",
   "metadata": {},
   "source": [
    "Q3. Open the 'names.txt' file given to you (shared over mail), then print first 100 girl-names."
   ]
  },
  {
   "cell_type": "code",
   "execution_count": null,
   "metadata": {},
   "outputs": [],
   "source": []
  },
  {
   "cell_type": "markdown",
   "metadata": {},
   "source": [
    "Q4. What is this helper doing? Tip: Call this helper with a filename, put some prints, run once and see what happens"
   ]
  },
  {
   "cell_type": "code",
   "execution_count": null,
   "metadata": {},
   "outputs": [],
   "source": [
    "def ding_dong_dict(filename):\n",
    "  ding = {} \n",
    "  input_file = open(filename, 'r')\n",
    "  for line in input_file.readline():\n",
    "    words = line.split()\n",
    "    for word in words:\n",
    "      word = word.lower()\n",
    "      if not word in ding:\n",
    "        ding[word] = 1\n",
    "      else:\n",
    "        ding[word] = ding[word] + 1\n",
    "  input_file.close()\n",
    "  return ding"
   ]
  },
  {
   "cell_type": "markdown",
   "metadata": {},
   "source": [
    "Q5. Create a dictionary to hold information about pets. Each key is an animal's name, and each value is the kind of animal.\n",
    "    For example, 'jimmy': 'dog'. Put at least 5 key-value pairs in your dictionary. Use a for loop to print out a series of statements such as \"Jimmy is a Dog\" (note that first letters should be capital).\n"
   ]
  },
  {
   "cell_type": "code",
   "execution_count": null,
   "metadata": {},
   "outputs": [],
   "source": []
  }
 ],
 "metadata": {
  "kernelspec": {
   "display_name": "Python 3",
   "language": "python",
   "name": "python3"
  },
  "language_info": {
   "codemirror_mode": {
    "name": "ipython",
    "version": 3
   },
   "file_extension": ".py",
   "mimetype": "text/x-python",
   "name": "python",
   "nbconvert_exporter": "python",
   "pygments_lexer": "ipython3",
   "version": "3.7.1"
  }
 },
 "nbformat": 4,
 "nbformat_minor": 2
}
