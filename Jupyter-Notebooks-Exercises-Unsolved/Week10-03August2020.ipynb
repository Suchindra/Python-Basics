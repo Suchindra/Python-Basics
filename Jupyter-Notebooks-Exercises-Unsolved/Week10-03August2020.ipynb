{
 "cells": [
  {
   "cell_type": "markdown",
   "metadata": {},
   "source": [
    "# Week 10 - 03 August 2020"
   ]
  },
  {
   "cell_type": "markdown",
   "metadata": {},
   "source": [
    "Q1. Whats the biggest word in the file letitgo.txt ? Find the biggest word in the file (letitgo.txt) and print it. Complete the code."
   ]
  },
  {
   "cell_type": "code",
   "execution_count": null,
   "metadata": {},
   "outputs": [],
   "source": [
    "file = open(\"letitgo.txt\", 'r')"
   ]
  },
  {
   "cell_type": "markdown",
   "metadata": {},
   "source": [
    "Q2. Python has a module called string, and has a helper string.ascii_uppercase. This helper (function) returns list containing A to Z in capitals. Use this function to create 26 files named A.txt, B.txt .. Z.txt. Each file should have only 1 letter which the name of the file. That is, A.txt should have 'A' in it. B.txt should have 'B' in it. Remember the use of import here."
   ]
  },
  {
   "cell_type": "code",
   "execution_count": null,
   "metadata": {},
   "outputs": [],
   "source": []
  },
  {
   "cell_type": "markdown",
   "metadata": {},
   "source": [
    "Q3. Create a dictionary of you. If should have following keys - name (string), age (integer), three_friends (list of 3 friends), two_relatives (another dictionary with keys father & mother), height_in_cms (integer). Complete the code."
   ]
  },
  {
   "cell_type": "code",
   "execution_count": null,
   "metadata": {},
   "outputs": [],
   "source": [
    "about_me = {}"
   ]
  },
  {
   "cell_type": "markdown",
   "metadata": {},
   "source": [
    "Q4. Answer the following questions in the code."
   ]
  },
  {
   "cell_type": "code",
   "execution_count": null,
   "metadata": {},
   "outputs": [],
   "source": [
    "lloyd = {\n",
    "  \"name\": \"Lloyd\",\n",
    "  \"homework\": [90.0,97.0,75.0,92.0],\n",
    "  \"quizzes\": [88.0,40.0,94.0],\n",
    "  \"tests\": [75.0,90.0]\n",
    "}\n",
    "alice = {\n",
    "  \"name\": \"Alice\",\n",
    "  \"homework\": [100.0, 92.0, 98.0, 100.0],\n",
    "  \"quizzes\": [82.0, 83.0, 91.0],\n",
    "  \"tests\": [89.0, 97.0]\n",
    "}\n",
    "tyler = {\n",
    "  \"name\": \"Tyler\",\n",
    "  \"homework\": [0.0, 87.0, 75.0, 22.0],\n",
    "  \"quizzes\": [0.0, 75.0, 78.0],\n",
    "  \"tests\": [100.0, 100.0]\n",
    "}\n",
    "students = [lloyd, alice, tyler]\n",
    "\n",
    "print(\"Q1. What the Average homework marks Tyler got ?\")\n",
    "\n",
    "\n",
    "print(\"Q2. In Which test lloyd Scored the hightest?\")\n",
    "\n",
    "\n",
    "print(\"Q3. What is the least Alice score in her quizzes?\")"
   ]
  },
  {
   "cell_type": "markdown",
   "metadata": {},
   "source": [
    "Q5. What is this program doing?"
   ]
  },
  {
   "cell_type": "code",
   "execution_count": null,
   "metadata": {},
   "outputs": [],
   "source": [
    "import urllib\n",
    "import re\n",
    "import sys,os,inspect\n",
    "song=input(\"Enter the correct name of the song:  \").strip(\" \").lower()\n",
    "artist=input(\"Enter the correct name of the artist:  \").strip(\" \").lower()\n",
    "song =song.replace(\" \",\"\")\n",
    "artist= artist.replace(\" \",\"\")\n",
    "url='http://www.azlyrics.com/lyrics/'+artist+'/'+ song+'.html'\n",
    "with urllib.request.urlopen(url) as response:\n",
    "    html = response.read()\n",
    "    htmltext = html.decode('utf-8')\n",
    "with open(song+\".html\",\"w\") as fh\n",
    "    fh.write(htmltext)\n",
    "fh.close()"
   ]
  },
  {
   "cell_type": "code",
   "execution_count": null,
   "metadata": {},
   "outputs": [],
   "source": []
  }
 ],
 "metadata": {
  "kernelspec": {
   "display_name": "Python 3",
   "language": "python",
   "name": "python3"
  },
  "language_info": {
   "codemirror_mode": {
    "name": "ipython",
    "version": 3
   },
   "file_extension": ".py",
   "mimetype": "text/x-python",
   "name": "python",
   "nbconvert_exporter": "python",
   "pygments_lexer": "ipython3",
   "version": "3.7.1"
  }
 },
 "nbformat": 4,
 "nbformat_minor": 2
}
