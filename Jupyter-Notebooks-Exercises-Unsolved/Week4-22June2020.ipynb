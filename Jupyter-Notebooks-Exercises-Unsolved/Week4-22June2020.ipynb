{
 "cells": [
  {
   "cell_type": "markdown",
   "metadata": {},
   "source": [
    "# Week-4 Assignment 22 June 2020"
   ]
  },
  {
   "cell_type": "markdown",
   "metadata": {},
   "source": [
    "Q1. Consider two numbers number1 and number2. Take 'sign' input from user - User has to enter + or - or * or /. Accordingly, you do the operation and store the result. For example, if user enters + do the addition. You can complete the program below (.... lines)"
   ]
  },
  {
   "cell_type": "code",
   "execution_count": null,
   "metadata": {},
   "outputs": [],
   "source": [
    "number1 = 10\n",
    "number2 = 20\n",
    "result = 0\n",
    "operation = .....\n",
    "if operation == '+':\n",
    "    result = number1 + number2\n",
    "elif operation ....:\n",
    "\n",
    "elif operation ....:\n",
    "\n",
    "elif operation ....:\n",
    "    \n",
    "print(result)\n",
    "    "
   ]
  },
  {
   "cell_type": "markdown",
   "metadata": {},
   "source": [
    "Q2. Here is a list of dictionary of your friends, print their ages. Clue: use the for loop to go through each and every dictionary, and for each dictionary, print the age - myfriends is a box that holds many dictionaries"
   ]
  },
  {
   "cell_type": "code",
   "execution_count": null,
   "metadata": {},
   "outputs": [],
   "source": [
    "myfriends = [{'name': 'Kiran', 'age':45}, {'name': 'Shankar', 'age':32}, {'name': 'Swaroop', 'age':42}, {'name': 'Harsha', 'age':22}]"
   ]
  },
  {
   "cell_type": "markdown",
   "metadata": {},
   "source": [
    "Q3. What is this program doing?"
   ]
  },
  {
   "cell_type": "code",
   "execution_count": null,
   "metadata": {},
   "outputs": [],
   "source": [
    "jar = 5\n",
    "glass_amount = 1.5\n",
    "served_glasses = 0\n",
    "\n",
    "for count in range(100):\n",
    "    if jar > 0:\n",
    "        jar = jar - glass_amount\n",
    "        served_glasses = served_glasses + 1\n",
    "    else:\n",
    "        break\n",
    "\n",
    "print(served_glasses)"
   ]
  },
  {
   "cell_type": "markdown",
   "metadata": {},
   "source": [
    "Q4. You have 6 friends. You are inviting them to your birthday party. But not all should come at same time. 'ramya' and 'radhika' to come at 6PM, 'deepika' and 'sana' should come at 615PM, and 'meghana' and 'bhavana' should come at 630PM.  Complete the program."
   ]
  },
  {
   "cell_type": "code",
   "execution_count": null,
   "metadata": {},
   "outputs": [],
   "source": [
    "friends = ['ramya', 'deepika', 'meghana', 'sana', 'radhika', 'bhavana']\n",
    "for friend in friends:\n",
    "    if ....:\n",
    "        invitation = \"Hi \" + friend + \".  Please come to my party at !\"\n",
    "    elif ....:\n",
    "        invitation = \"Hi \" + friend + \".  Please come to my party at!\"\n",
    "    elif ....:\n",
    "        invitation = \"Hi \" + friend + \".  Please come to my party at !\"\n",
    "print(invitation)"
   ]
  },
  {
   "cell_type": "markdown",
   "metadata": {},
   "source": [
    "Q5. Imagine you have list of numbers like this numbers = [10, 50, 3, 100, 1, 500, 9]. Write steps in english, on how you will arrange the numbers in Increasing order?. This is also called as sorting in ascending order."
   ]
  },
  {
   "cell_type": "markdown",
   "metadata": {},
   "source": []
  }
 ],
 "metadata": {
  "kernelspec": {
   "display_name": "Python 3",
   "language": "python",
   "name": "python3"
  },
  "language_info": {
   "codemirror_mode": {
    "name": "ipython",
    "version": 3
   },
   "file_extension": ".py",
   "mimetype": "text/x-python",
   "name": "python",
   "nbconvert_exporter": "python",
   "pygments_lexer": "ipython3",
   "version": "3.7.1"
  }
 },
 "nbformat": 4,
 "nbformat_minor": 2
}
