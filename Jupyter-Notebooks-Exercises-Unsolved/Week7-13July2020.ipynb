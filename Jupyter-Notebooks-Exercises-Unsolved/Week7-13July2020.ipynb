{
 "cells": [
  {
   "cell_type": "markdown",
   "metadata": {},
   "source": [
    "# Week7- 13July2020"
   ]
  },
  {
   "cell_type": "markdown",
   "metadata": {},
   "source": [
    "Q1. Write a program to decide the grade, from the marks obtained. You have two variables - marks_obtained and maximum_marks.\n",
    "Now, based on the following rules, you have to assign the grade.\n",
    "1. If the marks obtained is less than or equal to 40% of the maximum_marks - Grade is 'F' (Failed)\n",
    "2. If the marks obtained is greater than 40% and less than or equal to 60% of the maximum marks - Grade is 'C' (Can-do-better)\n",
    "3. If the marks obtained is greater than 60% and less than or equal to 80% of the maximum marks - Grade is 'B' (Better)\n",
    "4. If the marks obtained is greater than 80% and less than or equal to 100% of the maximum marks - Grade is 'A' (Awesome)\n",
    "Complete the code below"
   ]
  },
  {
   "cell_type": "code",
   "execution_count": null,
   "metadata": {},
   "outputs": [],
   "source": [
    "marks_obtained = int(input(\"Enter the Marks Obtained\"))\n",
    "maximum_marks = int(input(\"Enter the Maximum Marks\"))\n",
    "....\n",
    "...."
   ]
  },
  {
   "cell_type": "markdown",
   "metadata": {},
   "source": [
    "Q2. Create a dictionary of 12 official Disney princesses. They Key should be the name of the princess - in all small letters, whereas the Value should be something special about them. For Example: \"snow white\": \"She lived with Seven Dwarfs.\n",
    "If You didn't know the 12 princesses names here they are: Snow White, Cinderella, Aurora, Ariel, Belle, Jasmine, Pocahontas, Mulan, Tiana, Rapunzel, Merida, and Moana."
   ]
  },
  {
   "cell_type": "code",
   "execution_count": null,
   "metadata": {},
   "outputs": [],
   "source": [
    "disney_princesses={}"
   ]
  },
  {
   "cell_type": "markdown",
   "metadata": {},
   "source": [
    "Q3. Create a helper (function) whose name is *whats_special* and takes the name of the princess as input, and returns the princess's speciality. Please use (copy and paste) the dictionary you created in Q2, INSIDE the helper."
   ]
  },
  {
   "cell_type": "code",
   "execution_count": null,
   "metadata": {},
   "outputs": [],
   "source": []
  },
  {
   "cell_type": "markdown",
   "metadata": {},
   "source": [
    "Q4. What is this program Doing? What is the Secret?"
   ]
  },
  {
   "cell_type": "code",
   "execution_count": null,
   "metadata": {},
   "outputs": [],
   "source": [
    "def compute_secret(x, y):\n",
    "    if x > y:\n",
    "        smaller = y\n",
    "    else:\n",
    "        smaller = x\n",
    "    for i in range(1, smaller+1):\n",
    "        if((x % i == 0) and (y % i == 0)):\n",
    "            secret = i \n",
    "    return secret\n",
    "\n",
    "num1 = 54 \n",
    "num2 = 24\n",
    "\n",
    "print(\"The SECRET is\", compute_secret(num1, num2))"
   ]
  },
  {
   "cell_type": "markdown",
   "metadata": {},
   "source": [
    "Q5. Let me first tell what a 'Random Event or Random Process' is. Event/Process that is not and cannot be made *exact* and, consequently, whose outcome cannot be predicted. Let me give you 2 examples:\n",
    "1. When you roll a dice, what number comes out is 'random' - that is, you cannot 'exactly' tell what will be the number.\n",
    "2. What time a newspaper or milk get delivered to your house is 'random' - that is you cannot 'exactly' tell what time it will be delivered.\n",
    "Now, can you tell 3 events or process that are random ? Don't google. Think about it. You see it everyday in your life."
   ]
  },
  {
   "cell_type": "code",
   "execution_count": null,
   "metadata": {},
   "outputs": [],
   "source": []
  }
 ],
 "metadata": {
  "kernelspec": {
   "display_name": "Python 3",
   "language": "python",
   "name": "python3"
  },
  "language_info": {
   "codemirror_mode": {
    "name": "ipython",
    "version": 3
   },
   "file_extension": ".py",
   "mimetype": "text/x-python",
   "name": "python",
   "nbconvert_exporter": "python",
   "pygments_lexer": "ipython3",
   "version": "3.7.1"
  }
 },
 "nbformat": 4,
 "nbformat_minor": 2
}
