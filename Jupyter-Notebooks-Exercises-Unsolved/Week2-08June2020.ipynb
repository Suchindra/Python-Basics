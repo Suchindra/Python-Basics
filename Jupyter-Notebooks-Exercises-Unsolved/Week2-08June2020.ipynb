{
 "cells": [
  {
   "cell_type": "markdown",
   "metadata": {},
   "source": [
    "# Week-2 Assignment 08-June-2020\n",
    "Please complete this by 13-June-2020"
   ]
  },
  {
   "cell_type": "markdown",
   "metadata": {},
   "source": [
    "Q1. Print All Odd number between 1 to 100. The output should be like this 1, 3, 5, 7, ........ You can complete the below code."
   ]
  },
  {
   "cell_type": "code",
   "execution_count": null,
   "metadata": {},
   "outputs": [],
   "source": [
    "for i in range(100):\n",
    "    # Check if it is ODD or it is NOT-EVEN\n",
    "    # Then print it"
   ]
  },
  {
   "cell_type": "markdown",
   "metadata": {},
   "source": [
    "Q2. From the given string, print only the words that DOES-NOT have an 'a' or 'e' in it. COmplete the given code."
   ]
  },
  {
   "cell_type": "code",
   "execution_count": null,
   "metadata": {},
   "outputs": [],
   "source": [
    "big_string = \"There was once a woman who was very, very cheerful, though she had little to make her so; for she was old, \\\n",
    "and poor, and lonely. She lived in a little bit of a cottage and earned a scant living by running errands for her neighbours,\\\n",
    "getting a bite here, a sup there, as reward for her services. So she made shift to get on, and always looked as spry and \\\n",
    "cheery as if she had not a want in the world. Now one summer evening, as she was trotting, full of smiles as ever, along \\\n",
    "the high road to her hovel, what should she see but a big black pot lying in the ditch! \\\n",
    "Goodness me! she cried, that would be just the very thing for me if I only had something to put in it! But I haven nott! \\\n",
    "Now who could have left it in the ditch? \\\n",
    "And she looked about her expecting the owner would not be far off; but she could see nobody. \\\n",
    "Maybe there is a hole in it, she went on, and thats why it has been cast away. But it would do fine to put a flower \\\n",
    "in for my window, so Ill just take it home with me. \\\n",
    "And with that she lifted the lid and looked inside. Mercy me! she cried, fair amazed. If it isnt full of gold pieces. \\\n",
    "Heres luck! And so it was, brimful of great gold coins. Well, at first she simply stood stock-still, wondering if she was \\\n",
    "standing on her head or her heels. Then she began saying: Lawks! But I do feel rich. I feel awful rich! \\\n",
    "After she had said this many times, she began to wonder how she was to get her treasure home. \\\n",
    "It was too heavy for her to carry, and she could see no better way than to tie the end of her shawl to it \\\n",
    "and drag it behind her like a go-cart. It will soon be dark, she said to herself as she trotted along. \\\n",
    "So much the better! The neighbours will not see what Im bringing home, and I shall have all the night to myself, \\\n",
    "and be able to think what Ill do! Mayhap Ill buy a grand house and just sit by the fire with a cup o tea and do \\\n",
    "no work at all like a queen. Or maybe Ill bury it at the garden foot and just keep a bit in the old china \\\n",
    "teapot on the chimney-piece. Or maybe—Goody! Goody! I feel that grand I dont know myself. \\\n",
    "By this time she was a bit tired of dragging such a heavy weight, and, stopping to rest a while, \\\n",
    "turned to look at her treasure. And lo! it wasnt a pot of gold at all! It was nothing but a lump of silver.\\\n",
    "She stared at it, and rubbed her eyes, and stared at it again.\\\n",
    "Well! I never! she said at last. And me thinking it was a pot of gold! I must have been dreaming. \\\n",
    "But this is luck! Silver is far less trouble—easier to mind, and not so easy stolen. Them gold pieces \\\n",
    "would have been the death o me, and with this great lump of silver.\\\n",
    "So she went off again planning what she would do, and feeling as rich as rich, until becoming a bit \\\n",
    "tired again she stopped to rest and gave a look round to see if her treasure was safe; and she saw nothing but \\\n",
    "a great lump of iron! Well! I never! says she again. And I mistaking it for silver! I must have been dreaming. \\\n",
    "But this is luck! Its real convenient. I can get penny pieces for old iron, and penny pieces are a deal handier \\\n",
    "for me than your gold and silver. Why! I should never have slept a wink for fear of being robbed. But a penny \\\n",
    "piece comes in useful, and I shall sell that iron for a lot and be real rich—rolling rich. \\\n",
    "So on she trotted full of plans as to how she would spend her penny pieces, till once more she stopped to rest \\\n",
    "and looked round to see her treasure was safe. And this time she saw nothing but a big stone. \\\n",
    "Well! I never! she cried, full of smiles. And to think I mistook it for iron. I must have been dreaming. \\\n",
    "But heres luck indeed, and me wanting a stone terrible bad to stick open the gate. Eh my! but its a change for \\\n",
    "the better! Its a fine thing to have good luck. So, all in a hurry to see how the stone would keep the gate open, \\\n",
    "she trotted off down the hill till she came to her own cottage. She unlatched the gate and then turned to unfasten \\\n",
    "her shawl from the stone which lay on the path behind her. Aye! It was a stone sure enough. There was plenty light \\\n",
    "to see it lying there, douce and peaceable as a stone should. \\\n",
    "So she bent over it to unfasten the shawl end, when—Oh my! All of a sudden it gave a jump, a squeal, and in one \\\n",
    "moment was as big as a haystack. Then it let down four great lanky legs and threw out two long ears, nourished a \\\n",
    "great long tail and romped off, kicking and squealing and whinnying and laughing like a naughty, mischievous boy! \\\n",
    "The old woman stared after it till it was fairly out of sight, then she burst out laughing too. \\\n",
    "Well! she chuckled, I am in luck! Quite the luckiest body hereabouts. Fancy my seeing the Bogey-Beast all to myself; \\\n",
    "and making myself so free with it too! My goodness! I do feel that uplifted—that GRAND!— \\\n",
    "So she went into her cottage and spent the evening chuckling over her good luck.\"\n",
    "words_of_big_string = big_string.split(' ')\n",
    "\n",
    "# Now you have the words ... Check for the presence of 'a' or 'e'"
   ]
  },
  {
   "cell_type": "markdown",
   "metadata": {},
   "source": [
    "Q3. From the above big_string see how many times the word old is used?. Hints given"
   ]
  },
  {
   "cell_type": "code",
   "execution_count": null,
   "metadata": {},
   "outputs": [],
   "source": [
    "# Use count() function. string_name.count(substring). You know the string_name you know the substring (old)\n"
   ]
  },
  {
   "cell_type": "raw",
   "metadata": {},
   "source": [
    "Q4. Create a dictionary to hold The information of a book. The information it should have are 'title', 'author' and 'prince_in_rs'. Add 3 books and print the dictionary. COmplete the code below."
   ]
  },
  {
   "cell_type": "code",
   "execution_count": 11,
   "metadata": {},
   "outputs": [],
   "source": []
  },
  {
   "cell_type": "markdown",
   "metadata": {},
   "source": [
    "Q5. Write Step-by-step procedure to check if a given string is a palindrome. You can write any number of steps. COmplete the markdown below."
   ]
  },
  {
   "cell_type": "markdown",
   "metadata": {},
   "source": [
    "## Steps to find if a string is a palindrome. \n",
    "Step-1: Let the name of the string be amIpali\n",
    "Step-2:\n",
    "Step-3:\n",
    "Step-4:\n",
    "Step-5:"
   ]
  }
 ],
 "metadata": {
  "kernelspec": {
   "display_name": "Python 3",
   "language": "python",
   "name": "python3"
  },
  "language_info": {
   "codemirror_mode": {
    "name": "ipython",
    "version": 3
   },
   "file_extension": ".py",
   "mimetype": "text/x-python",
   "name": "python",
   "nbconvert_exporter": "python",
   "pygments_lexer": "ipython3",
   "version": "3.7.1"
  }
 },
 "nbformat": 4,
 "nbformat_minor": 2
}
