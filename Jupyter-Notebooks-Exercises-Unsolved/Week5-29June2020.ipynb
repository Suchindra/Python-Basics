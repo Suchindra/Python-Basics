{
 "cells": [
  {
   "cell_type": "markdown",
   "metadata": {},
   "source": [
    "# Week5 - 29 June 2020"
   ]
  },
  {
   "cell_type": "markdown",
   "metadata": {},
   "source": [
    "Q1. Write a program to sort the list numbers in increasing order. Sorting means arranging in some order, increasing or decreasing. Complete the code below. DO NOT USE PYTHON's SORT FUNCTION.\n",
    "\n",
    "Clue1: First think how you swap the values of two variables. Imagine you have 2 numbers number1 and number2. Let number1=10 and number2=20. Now try swapping the values. That is after swapping, number1 should have 20 and number2 should have 10. This Simple Idea should be used.\n",
    "\n",
    "Clue2: You can use very simple approach. Start with the very first position, ensure that it has the least value. How you do this? (a) compare its value with 2nd, and if it is greater, just 'swap' it (b) compare again its value with 3rd postion, and it is greater, just swap it. Do the same thing (a) and (b) for the 2nd postion. Automatically 3rd position will be correct. So, you just have to SWAP only 3 times AT MOST.\n"
   ]
  },
  {
   "cell_type": "code",
   "execution_count": null,
   "metadata": {},
   "outputs": [],
   "source": [
    "numbers = [10, 5, 20]\n",
    "if ....."
   ]
  },
  {
   "cell_type": "markdown",
   "metadata": {},
   "source": [
    "Q2. Take a String input from the user. Count how many vowels are there in the string and print it. Complete the code below\n",
    "\n",
    "Clue: Use 'Count' Function that u did in previous assignment (assignment-3). Use it to check for each vowel and add the all the counts."
   ]
  },
  {
   "cell_type": "code",
   "execution_count": null,
   "metadata": {},
   "outputs": [],
   "source": [
    "string = input()\n",
    "...."
   ]
  },
  {
   "cell_type": "markdown",
   "metadata": {},
   "source": [
    "Q3. Create a dictionary of codes for alphabets. The keys or names will be a, b, c, d, e ... z, and the values will be 1, 2, 3, 4 .... 26. Complete the code below."
   ]
  },
  {
   "cell_type": "code",
   "execution_count": null,
   "metadata": {},
   "outputs": [],
   "source": [
    "dict_of_alphabets = {}"
   ]
  },
  {
   "cell_type": "markdown",
   "metadata": {},
   "source": [
    "Q4. Take name as input from the user, and create a number-code for that user. The code will be the Sum of the values of each and every letter of his name. Use the dictionary you created above for the values. For example if user inputs anna as name, then the code for anna is 1 + 14 + 14 + 1 = 30. 1 if for 'a' and 14 is for 'n'. Complete the code below."
   ]
  },
  {
   "cell_type": "markdown",
   "metadata": {},
   "source": [
    "CLUE: Use for loop to go letter by letter in the name, use the letter to get the number from the dictionary, and add those numbers."
   ]
  },
  {
   "cell_type": "code",
   "execution_count": null,
   "metadata": {},
   "outputs": [],
   "source": [
    "name = input()\n"
   ]
  },
  {
   "cell_type": "markdown",
   "metadata": {},
   "source": [
    "Q5. What is this program doing?"
   ]
  },
  {
   "cell_type": "code",
   "execution_count": null,
   "metadata": {},
   "outputs": [],
   "source": [
    "def func1(arg):\n",
    "    for i in arg:\n",
    "        print(i)\n",
    "\n",
    "list1 = [20, 40, 60, 80, 100]\n",
    "list2 = ['Sahaana', 'Maithri', 'Saanvi', 'Shreya']\n",
    "func1(list1)\n",
    "func1(list2)"
   ]
  }
 ],
 "metadata": {
  "kernelspec": {
   "display_name": "Python 3",
   "language": "python",
   "name": "python3"
  },
  "language_info": {
   "codemirror_mode": {
    "name": "ipython",
    "version": 3
   },
   "file_extension": ".py",
   "mimetype": "text/x-python",
   "name": "python",
   "nbconvert_exporter": "python",
   "pygments_lexer": "ipython3",
   "version": "3.7.1"
  }
 },
 "nbformat": 4,
 "nbformat_minor": 2
}
