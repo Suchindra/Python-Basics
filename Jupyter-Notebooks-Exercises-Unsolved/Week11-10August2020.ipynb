{
 "cells": [
  {
   "cell_type": "markdown",
   "metadata": {},
   "source": [
    "# Week11 - 10 August 2020.\n",
    "## Let's Play Cards."
   ]
  },
  {
   "cell_type": "markdown",
   "metadata": {},
   "source": [
    "Q1. Create a List, containing all the cards of 54-cards \"playing-card\" deck. Tip: Create a list of strings, each string will be 2 or 3 characters. First or first-two character(s) will be the number 1 to 13, where as the second/third will be the shape-code. For Example 3-Spade will be: '3S', whereas 10-Diamond will be: '10D'"
   ]
  },
  {
   "cell_type": "code",
   "execution_count": null,
   "metadata": {},
   "outputs": [],
   "source": [
    "deck=[]"
   ]
  },
  {
   "cell_type": "markdown",
   "metadata": {},
   "source": [
    "Q2. Use the List you created in Q1. Draw 26 cards from this list using the random.choose function. The drawn cards should be put alternatively to 2 lists called player1_cards and player2_cards. This will be similar to how you distribute 13 cards each to two players in a card-game. We are using random function to capture the 'shuffling' we do before distributing. \n",
    "NOTE: Once you draw a card from the list, that card should be removed before you call random.choose again."
   ]
  },
  {
   "cell_type": "code",
   "execution_count": null,
   "metadata": {},
   "outputs": [],
   "source": [
    "import random\n",
    "player1_cards=[]\n",
    "player2_cards=[]"
   ]
  },
  {
   "cell_type": "markdown",
   "metadata": {},
   "source": [
    "Q3. You have list of strings. Each string has 2 characters (ex: ['1A', '4D']). First characer is the number second-character is a Alphabet. Out of this list, create a list of \"only Numbers\" and \"only-Shapes\""
   ]
  },
  {
   "cell_type": "code",
   "execution_count": null,
   "metadata": {},
   "outputs": [],
   "source": [
    "myhand=[\"6D\", \"9S\", \"12C\", \"7H\", \"7C\", \"2D\", \"11H\", \"10S\", \"7S\", \"12H\", \"10H\", \"4D\", \"9C\"]\n",
    "nums=[]\n",
    "strings=[]"
   ]
  },
  {
   "cell_type": "markdown",
   "metadata": {},
   "source": [
    "Q4. You have list of strings. Each string has 2 characters (ex: ['1A', '4D']). First characer is the number second-character is a Alphabet. Out of this list, create a dictionary that has Multiple lists with each list containing the strings having same character. If the original list is ['1A', '4D', '5A', '2D'] the output sill be {'A': ['1A', '5A'], 'D':['4D', '2D']}"
   ]
  },
  {
   "cell_type": "code",
   "execution_count": null,
   "metadata": {},
   "outputs": [],
   "source": [
    "myhand=[\"6D\", \"9S\", \"12C\", \"7H\", \"7C\", \"2D\", \"11H\", \"10S\", \"7S\", \"12H\", \"10H\", \"4D\", \"9C\"]\n",
    "collection_shapes={'S':[], 'H':[], 'D':[], 'C':[]}\n"
   ]
  },
  {
   "cell_type": "markdown",
   "metadata": {},
   "source": [
    "Q5. You have list of strings. Each string has 2 characters (ex: ['1A', '4D']). First characer is the number second-character is a Alphabet. Out of this list, create a dictionary that has Multiple lists with each list containing the strings having same character. If the original list is ['1A', '1D', '5A', '2D'] the output sill be {'1': ['1A', '1D], '5': ['5A'], '2': ['2D']}"
   ]
  },
  {
   "cell_type": "code",
   "execution_count": null,
   "metadata": {},
   "outputs": [],
   "source": [
    "myhand=[\"6D\", \"9S\", \"12C\", \"7H\", \"7C\", \"2D\", \"11H\", \"10S\", \"7S\", \"12H\", \"10H\", \"4D\", \"9C\"]\n",
    "collection_numbers={ }"
   ]
  },
  {
   "cell_type": "markdown",
   "metadata": {},
   "source": [
    "Q6. If you have list of numbers, you should break the list into small lists of 3 numbers like this.\n",
    "Original list = [a, b, c, d, e, f, g, h, i, j]\n",
    "small lists = [a, b, c], [b, c, d], [c, d, e], [d, e, f], [e, f,g], [f, g, h], [g, h, i], [h, i, j].\n",
    "Complete the code below."
   ]
  },
  {
   "cell_type": "code",
   "execution_count": null,
   "metadata": {},
   "outputs": [],
   "source": [
    "numbers=[1 , 25 , 3 , 10 , 12 , 4 , 9 , 2 , 8 , 6 , 14 , 5 , 11 , 7 , 13 , 51 , 23]\n",
    "numbers.sort()\n",
    "for i in range(....):\n",
    "    \n",
    "    \n",
    "      "
   ]
  },
  {
   "cell_type": "markdown",
   "metadata": {},
   "source": [
    "Q7. Write a simple helper, who take a list of 3 sorted numbers, and check if it is a sequence or not. FOr example, if the list is [3, 4, 5] it should return true. If the list is [4, 7, 8], it should return false."
   ]
  },
  {
   "cell_type": "code",
   "execution_count": null,
   "metadata": {},
   "outputs": [],
   "source": [
    "def is_it_seq(seq):\n",
    "    # your program here\n",
    "\n",
    "# to test\n",
    "is_it_seq([4, 5, 6])"
   ]
  },
  {
   "cell_type": "markdown",
   "metadata": {},
   "source": [
    "Q8. Write a helper, who takes of list of numbers and tells whether there is a 3-number sequence in that list? It should return TRUE (if sequence exists) or FALSE (if no sequence). For example, if the list is [1, 4, 5, 9, 8, 6] - It should return TRUE. Complete the code below. TIP: Just combine Q6 and Q7."
   ]
  },
  {
   "cell_type": "code",
   "execution_count": null,
   "metadata": {},
   "outputs": [],
   "source": [
    "def is_it_three_seq(seq):\n",
    "    # Your program here\n",
    "    \n",
    "# To Test the helper\n",
    "is_it_three_seq([4, 8, 9, 11, 20 , 21 , 22, 31, 45])\n",
    "    "
   ]
  },
  {
   "cell_type": "markdown",
   "metadata": {},
   "source": [
    "Q9. Write a helper, who takes a list of strings. Each string has 2 characters (ex: ['1A', '4D']). First characer is the number second-character is a Alphabet. The helper should first create a list of number from that list, then check if that number has a sequence. If yes, it should return True.\n",
    "Tip: Combine Q3 and Q8. Complete the code below."
   ]
  },
  {
   "cell_type": "code",
   "execution_count": null,
   "metadata": {},
   "outputs": [],
   "source": [
    "def is_it_rummy(myhand):\n",
    "    nums=[]\n",
    "    \n",
    "    if is_it_three_seq ...\n",
    "    \n",
    "    else: \n",
    "        \n",
    "    "
   ]
  },
  {
   "cell_type": "markdown",
   "metadata": {},
   "source": [
    "Reference Code."
   ]
  },
  {
   "cell_type": "code",
   "execution_count": null,
   "metadata": {},
   "outputs": [],
   "source": [
    "def check_dup(clist):\n",
    "    if len(list) == len(set(list)):\n",
    "        return False\n",
    "    else:\n",
    "        return True\n",
    "\n",
    "list = [\"6D\", \"6D\", \"12C\", \"7H\", \"7C\", \"2D\", \"11H\", \"10S\", \"7H\", \"12H\", \"10H\", \"4D\", \"9C\"]\n",
    "check_dup(list)"
   ]
  },
  {
   "cell_type": "markdown",
   "metadata": {},
   "source": [
    "Q10. Write a helper, who takes the list of strings, and tell if it has at least 3 strings that has: same number, but different character."
   ]
  },
  {
   "cell_type": "code",
   "execution_count": null,
   "metadata": {},
   "outputs": [],
   "source": [
    "def is_it_three_shapes(cards):\n",
    "    # First create a collection based on numbers (see above)\n",
    "    collection_numbers={}        \n",
    "\n",
    "    .. code here ...\n",
    "    print(collection_numbers)\n",
    "    # Use that collection based on numbers, go through each and every list, \n",
    "    # if its length of the list is greater than 3 and it has no duplicates, that means it has a set.\n",
    "    # Use the code above for duplicate checking.\n",
    "    \n",
    "                \n",
    "    \n",
    "# For Testing.\n",
    "myhand=[\"6D\", \"9S\", \"12C\", \"7H\", \"7C\", \"2D\", \"11H\", \"10S\", \"7S\", \"12H\", \"10H\", \"4D\", \"9C\"]\n",
    "is_it_three_shapes(myhand)\n",
    "print(myhand)\n",
    "    "
   ]
  },
  {
   "cell_type": "markdown",
   "metadata": {},
   "source": [
    "Q11. Use the above programs to tell if a 'hand'  has 'First Rummy'. Complete the code below."
   ]
  },
  {
   "cell_type": "code",
   "execution_count": null,
   "metadata": {},
   "outputs": [],
   "source": [
    "myhand=[\"6D\", \"9S\", \"12C\", \"8S\", \"7C\", \"2D\", \"11H\", \"10S\", \"7S\", \"12H\", \"10H\", \"4D\", \"9C\"]\n",
    "\n",
    "# FIrst create the collection based on shapes.\n",
    "\n",
    "# Use this collection based on shapes and for each and every list.\n",
    "# if the length is greater than 3, call the is_it_rummy helper.\n",
    "        "
   ]
  },
  {
   "cell_type": "code",
   "execution_count": null,
   "metadata": {},
   "outputs": [],
   "source": []
  }
 ],
 "metadata": {
  "kernelspec": {
   "display_name": "Python 3",
   "language": "python",
   "name": "python3"
  },
  "language_info": {
   "codemirror_mode": {
    "name": "ipython",
    "version": 3
   },
   "file_extension": ".py",
   "mimetype": "text/x-python",
   "name": "python",
   "nbconvert_exporter": "python",
   "pygments_lexer": "ipython3",
   "version": "3.7.1"
  }
 },
 "nbformat": 4,
 "nbformat_minor": 2
}
