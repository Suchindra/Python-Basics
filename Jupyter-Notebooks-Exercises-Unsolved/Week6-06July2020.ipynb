{
 "cells": [
  {
   "cell_type": "markdown",
   "metadata": {},
   "source": [
    "# Week-6 Assignment - 6 July 2020."
   ]
  },
  {
   "cell_type": "markdown",
   "metadata": {},
   "source": [
    "Q1. What is this Code doing?"
   ]
  },
  {
   "cell_type": "code",
   "execution_count": null,
   "metadata": {},
   "outputs": [],
   "source": [
    "start = 11\n",
    "end = 25\n",
    "for val in range(start, end + 1): \n",
    "    if val > 1: \n",
    "        for n in range(2, val//2 + 2): \n",
    "            if (val % n) == 0: \n",
    "                break\n",
    "            else: \n",
    "                if n == val//2 + 1: \n",
    "                    print(val) "
   ]
  },
  {
   "cell_type": "markdown",
   "metadata": {},
   "source": [
    "Q2. Write the same program what you did in Week-4 Q1, but this time using Functions. You should write 4 helpers - to add, subtract, multiply and divide numbers. Helpers will take two numbers and return the result. Take the 'operator' as input from the user - just like you did last time, and call the appropriate helper and print the result. "
   ]
  },
  {
   "cell_type": "code",
   "execution_count": null,
   "metadata": {},
   "outputs": [],
   "source": [
    "number1 = \n",
    "number2 = \n",
    "result = \n",
    "operation = input(\"Enter Operator\")"
   ]
  },
  {
   "cell_type": "markdown",
   "metadata": {},
   "source": [
    "Q3. Can you explain how you  will print the output like this? You should use *only 1* print statement."
   ]
  },
  {
   "cell_type": "code",
   "execution_count": null,
   "metadata": {},
   "outputs": [],
   "source": [
    "1\n",
    "1 2\n",
    "1 2 3\n",
    "1 2 3 4\n",
    "1 2 3 4 5\n",
    "1 2 3 4 5 6\n",
    "1 2 3 4 5 6 7\n",
    "1 2 3 4 5 6 7 8 \n",
    "1 2 3 4 5 6 7 8 9"
   ]
  },
  {
   "cell_type": "markdown",
   "metadata": {},
   "source": [
    "Your Explanation for Q3:"
   ]
  },
  {
   "cell_type": "markdown",
   "metadata": {},
   "source": [
    "Q4. Your height is 4ft, your mom's height is 5ft, your dad's height is 6ft. If you three form a triangle, what is the area of that triangle? Write a program to to calculate and print this area. If you don't know the formula to find the area of a triangle, given 3 sides, see here: https://www.mathsisfun.com/geometry/herons-formula.html"
   ]
  },
  {
   "cell_type": "code",
   "execution_count": null,
   "metadata": {},
   "outputs": [],
   "source": [
    "myheight = 4\n",
    "momsheight = 5\n",
    "dadsheight = 6\n",
    "area = ...."
   ]
  },
  {
   "cell_type": "markdown",
   "metadata": {},
   "source": [
    "Q5. Every email id has a username '@' symbol and name of the email service provider. For example, sridharkn@gmail.com is my email id - here sridharkn is the username, @ is the symbol, and gmail.com is the name of the service provider. You should take email ID from the user, then (a) Check if it is a valid userid (if it has 3 parts) (b) Print only the username.\n",
    "Complete the code below.\n",
    "\n",
    "Clue: If you split email-id based on @, you should get exactly 2 strings. If it is less than 2 or more than 2, then it is a wrong email id."
   ]
  },
  {
   "cell_type": "code",
   "execution_count": null,
   "metadata": {},
   "outputs": [],
   "source": [
    "emailid = input('Please Enter your email ID')"
   ]
  }
 ],
 "metadata": {
  "kernelspec": {
   "display_name": "Python 3",
   "language": "python",
   "name": "python3"
  },
  "language_info": {
   "codemirror_mode": {
    "name": "ipython",
    "version": 3
   },
   "file_extension": ".py",
   "mimetype": "text/x-python",
   "name": "python",
   "nbconvert_exporter": "python",
   "pygments_lexer": "ipython3",
   "version": "3.7.1"
  }
 },
 "nbformat": 4,
 "nbformat_minor": 2
}
